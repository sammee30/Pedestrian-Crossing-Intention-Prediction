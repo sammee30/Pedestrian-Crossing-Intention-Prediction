{
 "cells": [
  {
   "cell_type": "code",
   "execution_count": 1,
   "id": "5e9a0ce4",
   "metadata": {},
   "outputs": [],
   "source": [
    "# NCb: PNB\n",
    "NCb = [(30.898499, 75.872277), (30.898498, 75.872236), (30.898504, 75.872180), (30.898514, 75.872140), (30.898529, 75.872094),\n",
    "        (30.898548, 75.872043)]\n",
    "\n",
    "SCb = [(30.898266, 75.872104), (30.898301, 75.872072), (30.898335, 75.872029), (30.898362, 75.871992), \n",
    "       (30.898390, 75.871954), (30.898417, 75.871918)]\n",
    "\n",
    "NM = [(30.898405, 75.872246), (30.898414, 75.872198), (30.898425, 75.872136), (30.898443, 75.872086),\n",
    "      (30.898459, 75.872046), (30.898476, 75.872005)]\n",
    "\n",
    "SM = [(30.898325, 75.872164), (30.898373, 75.872115), (30.898417, 75.872058), (30.898457, 75.872003), (30.898486, 75.871953),\n",
    "      (30.898505, 75.871917)]\n",
    "\n",
    "NC = [(30.898450, 75.872252), (30.898458, 75.872201), (30.898473, 75.872147), (30.898488, 75.872098), \n",
    "      (30.898503, 75.872053), (30.898520, 75.872004) ]\n",
    "\n",
    "SC = [(30.898300, 75.872135), (30.898334, 75.872094), (30.898373, 75.872049), (30.898405, 75.871999), (30.898427, 75.871970),\n",
    "      (30.898449, 75.871935)]"
   ]
  },
  {
   "cell_type": "code",
   "execution_count": 2,
   "id": "e8ff9d22",
   "metadata": {},
   "outputs": [],
   "source": [
    "def loc(pedestrian_id):\n",
    "    import pandas as pd\n",
    "    import numpy as np\n",
    "    from shapely.geometry import Point, LineString\n",
    "\n",
    "    # Define the BRCb, BLCb, BLM, BRM, BRC, and BLC lines as shapely LineString objects\n",
    "    BRCb_line = LineString(NCb)\n",
    "    BLCb_line = LineString(SCb)\n",
    "    BLM_line = LineString(NM)\n",
    "    BRM_line = LineString(SM)\n",
    "    BRC_line = LineString(NC)\n",
    "    BLC_line = LineString(SC)\n",
    "\n",
    "    # Select a pedestrian trajectory\n",
    "    pedestrian_df = df[(df['ID'] == pedestrian_id) & (df['Class'] == ' Pedestrian')]\n",
    "\n",
    "    # Calculate the distance between each point in the pedestrian's trajectory and each of the lines\n",
    "    trajectory_points = np.array(pedestrian_df[['X', 'Y']])\n",
    "    line_distances = np.zeros((len(trajectory_points), 6))\n",
    "    for i, point in enumerate(trajectory_points):\n",
    "        point = Point(point)\n",
    "        line_distances[i, 0] = point.distance(BRCb_line)\n",
    "        line_distances[i, 1] = point.distance(BLCb_line)\n",
    "        line_distances[i, 2] = point.distance(BLM_line)\n",
    "        line_distances[i, 3] = point.distance(BRM_line)\n",
    "        line_distances[i, 4] = point.distance(BRC_line)\n",
    "        line_distances[i, 5] = point.distance(BLC_line)\n",
    "\n",
    "    # Assign each point to the line with the minimum distance\n",
    "    line_names = ['NCb', 'SCb', 'NM', 'SM', 'NC', 'SC']\n",
    "    nearest_lines = np.argmin(line_distances, axis=1)\n",
    "    pedestrian_df['Nearest Line'] = [line_names[i] for i in nearest_lines]\n",
    "    return (pedestrian_df[['frame','ID' ,'X', 'Y', 'Nearest Line']])"
   ]
  },
  {
   "cell_type": "code",
   "execution_count": 3,
   "id": "9cbfd26c",
   "metadata": {},
   "outputs": [],
   "source": [
    "def dirn(pedestrian_id):\n",
    "    import pandas as pd\n",
    "    from scipy.spatial.distance import cdist\n",
    "\n",
    "    # Filter the dataframe to only include the trajectory of the pedestrian of interest\n",
    "    pedestrian_df = df[(df['ID'] == pedestrian_id) & (df['Class'] == ' Pedestrian')]\n",
    "\n",
    "    # Find the closest point on the BRCb line\n",
    "    closest_brcb = min(NCb, key=lambda p: cdist([p], pedestrian_df[['X', 'Y']]).min())\n",
    "\n",
    "    # Find the closest point on the BLCb line\n",
    "    closest_blcb = min(SCb, key=lambda p: cdist([p], pedestrian_df[['X', 'Y']]).min())\n",
    "\n",
    "    # Determine which point is closer to the start of the trajectory\n",
    "    start_point = pedestrian_df[['X', 'Y']].iloc[0].values\n",
    "    if cdist([start_point], [closest_brcb]).min() < cdist([start_point], [closest_blcb]).min():\n",
    "        return('NCb to SCb')\n",
    "    else:\n",
    "        return('SCb to NCb')"
   ]
  },
  {
   "cell_type": "code",
   "execution_count": null,
   "id": "038a5250",
   "metadata": {},
   "outputs": [],
   "source": []
  },
  {
   "cell_type": "code",
   "execution_count": null,
   "id": "95970dd9",
   "metadata": {},
   "outputs": [],
   "source": []
  }
 ],
 "metadata": {
  "kernelspec": {
   "display_name": "Python 3 (ipykernel)",
   "language": "python",
   "name": "python3"
  },
  "language_info": {
   "codemirror_mode": {
    "name": "ipython",
    "version": 3
   },
   "file_extension": ".py",
   "mimetype": "text/x-python",
   "name": "python",
   "nbconvert_exporter": "python",
   "pygments_lexer": "ipython3",
   "version": "3.9.13"
  }
 },
 "nbformat": 4,
 "nbformat_minor": 5
}
