{
 "cells": [
  {
   "cell_type": "code",
   "execution_count": 1,
   "id": "a5480167",
   "metadata": {},
   "outputs": [],
   "source": [
    "import cv2\n",
    "import numpy as np"
   ]
  },
  {
   "cell_type": "code",
   "execution_count": 2,
   "id": "abea4572",
   "metadata": {},
   "outputs": [],
   "source": [
    "h = cv2.findHomography(pts_src, pts_dst)\n",
    "inversehomographymatrix = inv(h)\n",
    "# worldpoint = np.array(np.dot(inversehomographymatrix,imagepoint))"
   ]
  },
  {
   "cell_type": "code",
   "execution_count": 3,
   "id": "76a1a96c",
   "metadata": {},
   "outputs": [],
   "source": [
    "def toworld(x,y):\n",
    "    imagepoint = [x, y, 1]\n",
    "    worldpoint = np.array(np.dot(inversehomographymatrix,imagepoint))\n",
    "    scalar = worldpoint[2]\n",
    "    xworld = worldpoint[0]/scalar\n",
    "    yworld = worldpoint[1]/scalar\n",
    "    return xworld, yworld"
   ]
  },
  {
   "cell_type": "code",
   "execution_count": null,
   "id": "644d0061",
   "metadata": {},
   "outputs": [],
   "source": []
  }
 ],
 "metadata": {
  "kernelspec": {
   "display_name": "Python 3 (ipykernel)",
   "language": "python",
   "name": "python3"
  },
  "language_info": {
   "codemirror_mode": {
    "name": "ipython",
    "version": 3
   },
   "file_extension": ".py",
   "mimetype": "text/x-python",
   "name": "python",
   "nbconvert_exporter": "python",
   "pygments_lexer": "ipython3",
   "version": "3.9.13"
  }
 },
 "nbformat": 4,
 "nbformat_minor": 5
}
